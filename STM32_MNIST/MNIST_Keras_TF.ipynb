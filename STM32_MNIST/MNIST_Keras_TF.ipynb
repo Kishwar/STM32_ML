{
 "cells": [
  {
   "cell_type": "markdown",
   "metadata": {},
   "source": [
    "### Imports"
   ]
  },
  {
   "cell_type": "code",
   "execution_count": 1,
   "metadata": {},
   "outputs": [],
   "source": [
    "import numpy as np\n",
    "from tensorflow import keras\n",
    "from tensorflow.keras import layers"
   ]
  },
  {
   "cell_type": "markdown",
   "metadata": {},
   "source": [
    "# "
   ]
  },
  {
   "cell_type": "markdown",
   "metadata": {},
   "source": [
    "### Model / data parameters"
   ]
  },
  {
   "cell_type": "code",
   "execution_count": 2,
   "metadata": {},
   "outputs": [
    {
     "name": "stdout",
     "output_type": "stream",
     "text": [
      "x_train shape: (60000, 28, 28, 1)\n",
      "60000 train samples\n",
      "10000 test samples\n"
     ]
    }
   ],
   "source": [
    "num_classes = 10\n",
    "input_shape = (28, 28, 1)\n",
    "\n",
    "# the data, split between train and test sets\n",
    "(x_train, y_train), (x_test, y_test) = keras.datasets.mnist.load_data()\n",
    "\n",
    "# Scale images to the [0, 1] range\n",
    "x_train = x_train.astype(\"float32\") / 255\n",
    "x_test = x_test.astype(\"float32\") / 255\n",
    "# Make sure images have shape (28, 28, 1)\n",
    "x_train = np.expand_dims(x_train, -1)\n",
    "x_test = np.expand_dims(x_test, -1)\n",
    "print(\"x_train shape:\", x_train.shape)\n",
    "print(x_train.shape[0], \"train samples\")\n",
    "print(x_test.shape[0], \"test samples\")\n",
    "\n",
    "\n",
    "# convert class vectors to binary class matrices\n",
    "y_train = keras.utils.to_categorical(y_train, num_classes)\n",
    "y_test = keras.utils.to_categorical(y_test, num_classes)"
   ]
  },
  {
   "cell_type": "code",
   "execution_count": 16,
   "metadata": {},
   "outputs": [
    {
     "name": "stdout",
     "output_type": "stream",
     "text": [
      "Model: \"sequential_4\"\n",
      "_________________________________________________________________\n",
      "Layer (type)                 Output Shape              Param #   \n",
      "=================================================================\n",
      "conv2d_8 (Conv2D)            (None, 26, 26, 4)         40        \n",
      "_________________________________________________________________\n",
      "max_pooling2d_8 (MaxPooling2 (None, 13, 13, 4)         0         \n",
      "_________________________________________________________________\n",
      "conv2d_9 (Conv2D)            (None, 11, 11, 4)         148       \n",
      "_________________________________________________________________\n",
      "max_pooling2d_9 (MaxPooling2 (None, 5, 5, 4)           0         \n",
      "_________________________________________________________________\n",
      "flatten_4 (Flatten)          (None, 100)               0         \n",
      "_________________________________________________________________\n",
      "dense_4 (Dense)              (None, 10)                1010      \n",
      "=================================================================\n",
      "Total params: 1,198\n",
      "Trainable params: 1,198\n",
      "Non-trainable params: 0\n",
      "_________________________________________________________________\n"
     ]
    }
   ],
   "source": [
    "model = keras.Sequential(\n",
    "    [\n",
    "        keras.Input(shape=input_shape),\n",
    "        layers.Conv2D(4, kernel_size=(3, 3), activation=\"relu\"),\n",
    "        layers.MaxPooling2D(pool_size=(2, 2)),\n",
    "        layers.Conv2D(4, kernel_size=(3, 3), activation=\"relu\"),\n",
    "        layers.MaxPooling2D(pool_size=(2, 2)),\n",
    "        layers.Flatten(),\n",
    "        layers.Dense(num_classes, activation=\"softmax\"),\n",
    "    ]\n",
    ")\n",
    "\n",
    "model.summary()"
   ]
  },
  {
   "cell_type": "markdown",
   "metadata": {},
   "source": [
    "# "
   ]
  },
  {
   "cell_type": "markdown",
   "metadata": {},
   "source": [
    "### Train the model"
   ]
  },
  {
   "cell_type": "code",
   "execution_count": 17,
   "metadata": {},
   "outputs": [
    {
     "name": "stdout",
     "output_type": "stream",
     "text": [
      "Epoch 1/15\n",
      "422/422 [==============================] - 10s 23ms/step - loss: 0.8885 - accuracy: 0.7280 - val_loss: 0.2501 - val_accuracy: 0.9265\n",
      "Epoch 2/15\n",
      "422/422 [==============================] - 9s 22ms/step - loss: 0.2654 - accuracy: 0.9179 - val_loss: 0.1840 - val_accuracy: 0.9467\n",
      "Epoch 3/15\n",
      "422/422 [==============================] - 10s 24ms/step - loss: 0.2091 - accuracy: 0.9362 - val_loss: 0.1557 - val_accuracy: 0.9565\n",
      "Epoch 4/15\n",
      "422/422 [==============================] - 10s 23ms/step - loss: 0.1819 - accuracy: 0.9445 - val_loss: 0.1380 - val_accuracy: 0.9602\n",
      "Epoch 5/15\n",
      "422/422 [==============================] - 10s 24ms/step - loss: 0.1657 - accuracy: 0.9485 - val_loss: 0.1339 - val_accuracy: 0.9615\n",
      "Epoch 6/15\n",
      "422/422 [==============================] - 9s 22ms/step - loss: 0.1537 - accuracy: 0.9523 - val_loss: 0.1227 - val_accuracy: 0.9650\n",
      "Epoch 7/15\n",
      "422/422 [==============================] - 9s 22ms/step - loss: 0.1444 - accuracy: 0.9552 - val_loss: 0.1244 - val_accuracy: 0.9645\n",
      "Epoch 8/15\n",
      "422/422 [==============================] - 9s 22ms/step - loss: 0.1369 - accuracy: 0.9574 - val_loss: 0.1149 - val_accuracy: 0.9682\n",
      "Epoch 9/15\n",
      "422/422 [==============================] - 9s 22ms/step - loss: 0.1320 - accuracy: 0.9588 - val_loss: 0.1071 - val_accuracy: 0.9687\n",
      "Epoch 10/15\n",
      "422/422 [==============================] - 9s 22ms/step - loss: 0.1271 - accuracy: 0.9611 - val_loss: 0.1039 - val_accuracy: 0.9712\n",
      "Epoch 11/15\n",
      "422/422 [==============================] - 9s 22ms/step - loss: 0.1223 - accuracy: 0.9629 - val_loss: 0.1032 - val_accuracy: 0.9712\n",
      "Epoch 12/15\n",
      "422/422 [==============================] - 9s 22ms/step - loss: 0.1182 - accuracy: 0.9636 - val_loss: 0.0997 - val_accuracy: 0.9718\n",
      "Epoch 13/15\n",
      "422/422 [==============================] - 9s 22ms/step - loss: 0.1146 - accuracy: 0.9654 - val_loss: 0.0965 - val_accuracy: 0.9718\n",
      "Epoch 14/15\n",
      "422/422 [==============================] - 9s 22ms/step - loss: 0.1113 - accuracy: 0.9662 - val_loss: 0.0930 - val_accuracy: 0.9735\n",
      "Epoch 15/15\n",
      "422/422 [==============================] - 9s 22ms/step - loss: 0.1081 - accuracy: 0.9673 - val_loss: 0.0925 - val_accuracy: 0.9743\n"
     ]
    },
    {
     "data": {
      "text/plain": [
       "<tensorflow.python.keras.callbacks.History at 0x1391c25b0>"
      ]
     },
     "execution_count": 17,
     "metadata": {},
     "output_type": "execute_result"
    }
   ],
   "source": [
    "batch_size = 128\n",
    "epochs = 15\n",
    "\n",
    "model.compile(loss=\"categorical_crossentropy\", optimizer=\"adam\", metrics=[\"accuracy\"])\n",
    "\n",
    "model.fit(x_train, y_train, batch_size=batch_size, epochs=epochs, validation_split=0.1)"
   ]
  },
  {
   "cell_type": "markdown",
   "metadata": {},
   "source": [
    "# "
   ]
  },
  {
   "cell_type": "markdown",
   "metadata": {},
   "source": [
    "### Evaluate the trained model"
   ]
  },
  {
   "cell_type": "code",
   "execution_count": 18,
   "metadata": {},
   "outputs": [
    {
     "name": "stdout",
     "output_type": "stream",
     "text": [
      "Test loss: 0.09349916875362396\n",
      "Test accuracy: 0.9710999727249146\n"
     ]
    }
   ],
   "source": [
    "score = model.evaluate(x_test, y_test, verbose=0)\n",
    "print(\"Test loss:\", score[0])\n",
    "print(\"Test accuracy:\", score[1])"
   ]
  },
  {
   "cell_type": "markdown",
   "metadata": {},
   "source": [
    "# "
   ]
  },
  {
   "cell_type": "markdown",
   "metadata": {},
   "source": [
    "### Convert model to tflite and save it in C format"
   ]
  },
  {
   "cell_type": "code",
   "execution_count": 19,
   "metadata": {},
   "outputs": [
    {
     "name": "stdout",
     "output_type": "stream",
     "text": [
      "INFO:tensorflow:Assets written to: /var/folders/l2/590l7mh12zs5c8p1xj5r8h8h0000gn/T/tmp74_6krjr/assets\n"
     ]
    },
    {
     "name": "stderr",
     "output_type": "stream",
     "text": [
      "INFO:tensorflow:Assets written to: /var/folders/l2/590l7mh12zs5c8p1xj5r8h8h0000gn/T/tmp74_6krjr/assets\n"
     ]
    }
   ],
   "source": [
    "import tensorflow as tf\n",
    "converter = tf.lite.TFLiteConverter.from_keras_model(model)\n",
    "\n",
    "converter.optimizations = [tf.lite.Optimize.DEFAULT]\n",
    "tflite_model = converter.convert()"
   ]
  },
  {
   "cell_type": "code",
   "execution_count": 20,
   "metadata": {},
   "outputs": [],
   "source": [
    "from tensorflow.lite.python.util import convert_bytes_to_c_source\n",
    "\n",
    "\n",
    "source_text, header_text = convert_bytes_to_c_source(tflite_model,  \"mnist_tflite\")\n",
    "\n",
    "with  open('inc/mnist_tflite.h',  'w')  as  file:\n",
    "    file.write(header_text)\n",
    "\n",
    "with  open('src/mnist_tflite.cc',  'w')  as  file:\n",
    "    file.write(source_text)"
   ]
  },
  {
   "cell_type": "code",
   "execution_count": null,
   "metadata": {},
   "outputs": [],
   "source": []
  },
  {
   "cell_type": "code",
   "execution_count": null,
   "metadata": {},
   "outputs": [],
   "source": []
  }
 ],
 "metadata": {
  "kernelspec": {
   "display_name": "Python 3",
   "language": "python",
   "name": "python3"
  },
  "language_info": {
   "codemirror_mode": {
    "name": "ipython",
    "version": 3
   },
   "file_extension": ".py",
   "mimetype": "text/x-python",
   "name": "python",
   "nbconvert_exporter": "python",
   "pygments_lexer": "ipython3",
   "version": "3.8.2"
  }
 },
 "nbformat": 4,
 "nbformat_minor": 4
}
